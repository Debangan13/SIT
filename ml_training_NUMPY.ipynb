{
  "nbformat": 4,
  "nbformat_minor": 0,
  "metadata": {
    "colab": {
      "provenance": [],
      "authorship_tag": "ABX9TyPBBw4LFIojyLH2jib1li1R",
      "include_colab_link": true
    },
    "kernelspec": {
      "name": "python3",
      "display_name": "Python 3"
    },
    "language_info": {
      "name": "python"
    }
  },
  "cells": [
    {
      "cell_type": "markdown",
      "metadata": {
        "id": "view-in-github",
        "colab_type": "text"
      },
      "source": [
        "<a href=\"https://colab.research.google.com/github/debangan13/SIT/blob/main/ml_training_NUMPY.ipynb\" target=\"_parent\"><img src=\"https://colab.research.google.com/assets/colab-badge.svg\" alt=\"Open In Colab\"/></a>"
      ]
    },
    {
      "cell_type": "code",
      "execution_count": null,
      "metadata": {
        "id": "DmiCIOovc7o1"
      },
      "outputs": [],
      "source": [
        "## Numpy\n",
        "# Author : Satyam Kumar Jha"
      ]
    },
    {
      "cell_type": "code",
      "source": [
        "# Creating 0-d array using numpy\n",
        "import numpy as np\n",
        "zeroDimensionArray = np.array(100)\n",
        "print(\"This is my 0-d array \")\n",
        "print(zeroDimensionArray)\n",
        "print(\"The dimension of this array is  \",zeroDimensionArray.ndim)"
      ],
      "metadata": {
        "colab": {
          "base_uri": "https://localhost:8080/"
        },
        "id": "eUnNLvdudlUu",
        "outputId": "4f9fcc71-2705-4ee6-ebec-52795e7abcd3"
      },
      "execution_count": null,
      "outputs": [
        {
          "output_type": "stream",
          "name": "stdout",
          "text": [
            "This is my 0-d array \n",
            "100\n",
            "The dimension of this array is   0\n"
          ]
        }
      ]
    },
    {
      "cell_type": "code",
      "source": [
        "# Creating 1-d array\n",
        "import numpy as np\n",
        "oneDimensionArray = np.array([1,2,3,4,5])\n",
        "print(\"This is my one dimension array \")\n",
        "print(oneDimensionArray)\n",
        "print(\"The dimension of this array  \",oneDimensionArray.ndim)\n",
        "print(\"The first element present in this array  \",oneDimensionArray[0])\n",
        "print(\"The third element present in this array \",oneDimensionArray[2])\n",
        "print(\"The sum of the element present in the 2nd and 3 rd index is \",oneDimensionArray[2]+oneDimensionArray[3])"
      ],
      "metadata": {
        "colab": {
          "base_uri": "https://localhost:8080/"
        },
        "id": "ZkIrtIlZfQ8Q",
        "outputId": "6067809e-95d3-4cd2-8d49-038ed7327368"
      },
      "execution_count": null,
      "outputs": [
        {
          "output_type": "stream",
          "name": "stdout",
          "text": [
            "This is my one dimension array \n",
            "[1 2 3 4 5]\n",
            "The dimension of this array   1\n",
            "The first element present in this array   1\n",
            "The third element present in this array  3\n",
            "The sum of the element present in the 2nd and 3 rd index is  7\n"
          ]
        }
      ]
    },
    {
      "cell_type": "code",
      "source": [],
      "metadata": {
        "id": "Q5YtwSf8ktt6"
      },
      "execution_count": null,
      "outputs": []
    },
    {
      "cell_type": "code",
      "source": [
        "# Creating 2-d array\n",
        "import numpy as np\n",
        "twoDimensionArray = np.array([[1,2,3,4,5],[6,7,8,9,10]])\n",
        "print(\"This is my 2-d array\")\n",
        "print(twoDimensionArray)\n",
        "print(\"Displayig 1st row : \",twoDimensionArray[0])\n",
        "print(\"Displaying 2nd row : \",twoDimensionArray[1])\n",
        "print(\"Displaying 1st element of the first row \",twoDimensionArray[0,0])\n",
        "print(\"Displaying 3rd element of the second row \",twoDimensionArray[1,3])"
      ],
      "metadata": {
        "colab": {
          "base_uri": "https://localhost:8080/"
        },
        "id": "TtqzBWrvgr2W",
        "outputId": "56725475-711d-4211-e8e4-3189d37d6eec"
      },
      "execution_count": null,
      "outputs": [
        {
          "output_type": "stream",
          "name": "stdout",
          "text": [
            "This is my 2-d array\n",
            "[[ 1  2  3  4  5]\n",
            " [ 6  7  8  9 10]]\n",
            "Displayig 1st row :  [1 2 3 4 5]\n",
            "Displaying 2nd row :  [ 6  7  8  9 10]\n",
            "Displaying 1st element of the first row  1\n",
            "Displaying 3rd element of the second row  9\n"
          ]
        }
      ]
    },
    {
      "cell_type": "code",
      "source": [
        "# Creating 3-d array\n",
        "import numpy as np\n",
        "threeDimensionArray = np.array([[[1,2,3],[4,5,6],[7,8,9]]])\n",
        "print(\"This is your 3-d array\")\n",
        "print(threeDimensionArray)\n",
        "print(\"THE DIMENSION OF THIS ARRAY IS \",threeDimensionArray.ndim)\n",
        "print(\"Displaying the first row of this array \",threeDimensionArray[0,0])\n",
        "print(\"Displaying the third row of this array \",threeDimensionArray[0,2])\n",
        "print(\"Displaying second element of third row \", threeDimensionArray[0,2,1])"
      ],
      "metadata": {
        "colab": {
          "base_uri": "https://localhost:8080/"
        },
        "id": "Lkqj_8jSihkq",
        "outputId": "131c2834-27b1-4b36-f53d-76ec53f1befe"
      },
      "execution_count": null,
      "outputs": [
        {
          "output_type": "stream",
          "name": "stdout",
          "text": [
            "This is your 3-d array\n",
            "[[[1 2 3]\n",
            "  [4 5 6]\n",
            "  [7 8 9]]]\n",
            "THE DIMENSION OF THIS ARRAY IS  3\n",
            "Displaying the first row of this array  [1 2 3]\n",
            "Displaying the third row of this array  [7 8 9]\n",
            "Displaying second element of third row  8\n"
          ]
        }
      ]
    },
    {
      "cell_type": "code",
      "source": [
        "# Array Slicing \n",
        "import numpy as np\n",
        "oneDimensionArray = np.array([1,2,3,4,5,6,7,8,9,10])\n",
        "print(\"Your array is : \")\n",
        "print(oneDimensionArray)\n",
        "print(\"The dimension of this array is : \",oneDimensionArray.ndim)\n",
        "print(\"Displaying element from 3rd to 6th index \",oneDimensionArray[3:7])\n",
        "print(\"Displaying all element after 5th element of this array \",oneDimensionArray[5:])\n",
        "print(\"Displaying all elements before 5th element of this ARRAY \",oneDimensionArray[:5])\n"
      ],
      "metadata": {
        "colab": {
          "base_uri": "https://localhost:8080/"
        },
        "id": "DeKMJwonmXm5",
        "outputId": "0b2660e6-95b5-4930-9433-a831c4ee3524"
      },
      "execution_count": null,
      "outputs": [
        {
          "output_type": "stream",
          "name": "stdout",
          "text": [
            "Displaying all elements before 5th element of this ARRAY  [ 7  9 11 13 15]\n"
          ]
        }
      ]
    },
    {
      "cell_type": "code",
      "source": [
        "# Copy and View\n",
        "import numpy as np\n",
        "OriginalArray= np.array([1,2,3,4,56])\n",
        "print(OriginalArray)\n"
      ],
      "metadata": {
        "colab": {
          "base_uri": "https://localhost:8080/"
        },
        "id": "t-MjJgVfJqKj",
        "outputId": "542ee42b-1592-45d1-e306-1a8d2e52cab6"
      },
      "execution_count": null,
      "outputs": [
        {
          "output_type": "stream",
          "name": "stdout",
          "text": [
            "Original Array :  [1 2 3 4]\n",
            "Original Array : [1 2 3 4]\n",
            "Copied Array :  [600   2   3   4]\n"
          ]
        }
      ]
    },
    {
      "cell_type": "code",
      "source": [
        "# copy and View\n",
        "import numpy as np\n",
        "OriginalArray = np.array([1,2,3,4])\n",
        "CopiedArray = OriginalArray.view()\n",
        "print(\"This is the Original Array : \",OriginalArray)\n",
        "print(\"Changes Applying to copied array :\")\n",
        "CopiedArray[0] = 100\n",
        "print(\"This is the Original Array : \",OriginalArray)\n",
        "print(\"This is the Copied Array : \",CopiedArray)"
      ],
      "metadata": {
        "colab": {
          "base_uri": "https://localhost:8080/"
        },
        "id": "Y5MhnC6pLJdF",
        "outputId": "974f31b7-1ab0-40f2-a870-71790c2945e3"
      },
      "execution_count": null,
      "outputs": [
        {
          "output_type": "stream",
          "name": "stdout",
          "text": [
            "This is the Original Array :  [1 2 3 4]\n",
            "Changes Applying to copied array :\n",
            "This is the Original Array :  [100   2   3   4]\n",
            "This is the Copied Array :  [100   2   3   4]\n"
          ]
        }
      ]
    },
    {
      "cell_type": "code",
      "source": [
        "# Numpy Iteration for 1-d array\n",
        "import numpy as np \n",
        "oneDimensionArray = np.array([1,2,3,4,5])\n",
        "for i in oneDimensionArray:\n",
        "  print(i)"
      ],
      "metadata": {
        "colab": {
          "base_uri": "https://localhost:8080/"
        },
        "id": "NC1bNht-nlpF",
        "outputId": "9e65caba-c11e-4bdc-a3b7-9a00621128da"
      },
      "execution_count": null,
      "outputs": [
        {
          "output_type": "stream",
          "name": "stdout",
          "text": [
            "1\n",
            "2\n",
            "3\n",
            "4\n",
            "5\n"
          ]
        }
      ]
    },
    {
      "cell_type": "code",
      "source": [
        "# numpy iteration for 2-d array\n",
        "import numpy as np \n",
        "twoDimensionArray = np.array([[1,2],[3,4]])\n",
        "for i in twoDimensionArray:\n",
        "  print(i)"
      ],
      "metadata": {
        "colab": {
          "base_uri": "https://localhost:8080/"
        },
        "id": "uF9zjs0Lqu_r",
        "outputId": "7f07e5ff-955d-4158-d3e9-3683ffa83640"
      },
      "execution_count": null,
      "outputs": [
        {
          "output_type": "stream",
          "name": "stdout",
          "text": [
            "[1 2]\n",
            "[3 4]\n"
          ]
        }
      ]
    },
    {
      "cell_type": "code",
      "source": [
        "# numpy iteration for 2-d array to get exact value\n",
        "import numpy as np \n",
        "twoDimensionArray = np.array([[1,2],[3,4]])\n",
        "for i in twoDimensionArray:\n",
        "  for j in i:\n",
        "    print(j)"
      ],
      "metadata": {
        "colab": {
          "base_uri": "https://localhost:8080/"
        },
        "id": "223YDoXtrUJW",
        "outputId": "6fa35169-c2c4-454e-bd9b-33fc481e515f"
      },
      "execution_count": null,
      "outputs": [
        {
          "output_type": "stream",
          "name": "stdout",
          "text": [
            "1\n",
            "2\n",
            "3\n",
            "4\n"
          ]
        }
      ]
    },
    {
      "cell_type": "code",
      "source": [
        "# Numpy iteration for 3-d array\n",
        "import numpy as np \n",
        "threeDimensionalArray = np.array([[[1,2],[3,4],[5,6]]])\n",
        "for i in threeDimensionalArray:\n",
        "  print(i)"
      ],
      "metadata": {
        "colab": {
          "base_uri": "https://localhost:8080/"
        },
        "id": "pCQOfXezrzzH",
        "outputId": "6cfa0fd9-be0a-4c49-a0fd-315e37f28728"
      },
      "execution_count": null,
      "outputs": [
        {
          "output_type": "stream",
          "name": "stdout",
          "text": [
            "[[1 2]\n",
            " [3 4]\n",
            " [5 6]]\n"
          ]
        }
      ]
    },
    {
      "cell_type": "code",
      "source": [
        "# Numpy iteration for 3-d array\n",
        "import numpy as np \n",
        "threeDimensionalArray = np.array([[[1,2],[3,4],[5,6]]])\n",
        "for i in threeDimensionalArray:\n",
        "  for j in i:\n",
        "    for k in j:\n",
        "      print(k)"
      ],
      "metadata": {
        "colab": {
          "base_uri": "https://localhost:8080/"
        },
        "id": "83hutLsjtAcL",
        "outputId": "f3509f69-6c5d-412c-b5bf-32c6aac4ed2b"
      },
      "execution_count": null,
      "outputs": [
        {
          "output_type": "stream",
          "name": "stdout",
          "text": [
            "1\n",
            "2\n",
            "3\n",
            "4\n",
            "5\n",
            "6\n"
          ]
        }
      ]
    },
    {
      "cell_type": "code",
      "source": [
        "# Numpy iteration using nditer() function\n",
        "import numpy as np \n",
        "threeDimensionalArray = np.array([[[1,2],[3,4],[5,6]]])\n",
        "for i in np.nditer(threeDimensionalArray):\n",
        "  print(i)"
      ],
      "metadata": {
        "colab": {
          "base_uri": "https://localhost:8080/"
        },
        "id": "cU3pBza1tiph",
        "outputId": "6212fc0e-2b60-4f8d-ead8-908e9fbea78d"
      },
      "execution_count": null,
      "outputs": [
        {
          "output_type": "stream",
          "name": "stdout",
          "text": [
            "1\n",
            "2\n",
            "3\n",
            "4\n",
            "5\n",
            "6\n"
          ]
        }
      ]
    },
    {
      "cell_type": "code",
      "source": [
        "# Numpy Joins (Join 1-d Array) using concatenate() function\n",
        "import numpy as np \n",
        "firstArray= np.array([1,2])\n",
        "print(\"This is the first array : \",firstArray)\n",
        "secondArray = np.array([3,4])\n",
        "print(\"This is the second array : \",secondArray)\n",
        "print(\"After Joining two array : \",np.concatenate((firstArray,secondArray)))"
      ],
      "metadata": {
        "colab": {
          "base_uri": "https://localhost:8080/"
        },
        "id": "rAaLawY0vBuE",
        "outputId": "1d0058be-517c-4a32-cfc5-690c5dfa9629"
      },
      "execution_count": null,
      "outputs": [
        {
          "output_type": "stream",
          "name": "stdout",
          "text": [
            "This is the first array :  [1 2]\n",
            "This is the second array :  [3 4]\n",
            "After Joining two array :  [1 2 3 4]\n"
          ]
        }
      ]
    },
    {
      "cell_type": "code",
      "source": [
        "# Numpy Joins (Join 2-d Array) using concatenate() function axis=1\n",
        "import numpy as np \n",
        "firstArray= np.array([[1,2],[3,4]])\n",
        "print(\"This is the first array : \\n\",firstArray)\n",
        "secondArray = np.array([[5,6],[7,8]])\n",
        "print(\"This is the second array : \\n\",secondArray)\n",
        "print(\"After joining two array :\\n\",np.concatenate((firstArray, secondArray),axis=1))"
      ],
      "metadata": {
        "colab": {
          "base_uri": "https://localhost:8080/"
        },
        "id": "-AE1HLRaxohB",
        "outputId": "e1b91e75-43d4-4ff2-aae7-430e3932216b"
      },
      "execution_count": null,
      "outputs": [
        {
          "output_type": "stream",
          "name": "stdout",
          "text": [
            "This is the first array : \n",
            " [[1 2]\n",
            " [3 4]]\n",
            "This is the second array : \n",
            " [[5 6]\n",
            " [7 8]]\n",
            "After joining two array :\n",
            " [[1 2 5 6]\n",
            " [3 4 7 8]]\n"
          ]
        }
      ]
    },
    {
      "cell_type": "code",
      "source": [
        "# Numpy Joins (Join 2-d Array) using concatenate() function axis=0\n",
        "import numpy as np \n",
        "firstArray= np.array([[1,2],[3,4]])\n",
        "print(\"This is the first array : \\n\",firstArray)\n",
        "secondArray = np.array([[5,6],[7,8]])\n",
        "print(\"This is the second array : \\n\",secondArray)\n",
        "print(\"After joining two array :\\n\",np.concatenate((firstArray, secondArray),axis=0))"
      ],
      "metadata": {
        "colab": {
          "base_uri": "https://localhost:8080/"
        },
        "id": "vQDHCb25zQis",
        "outputId": "a2b1383b-a0ed-4cf8-9bd1-cd265aabd751"
      },
      "execution_count": null,
      "outputs": [
        {
          "output_type": "stream",
          "name": "stdout",
          "text": [
            "This is the first array : \n",
            " [[1 2]\n",
            " [3 4]]\n",
            "This is the second array : \n",
            " [[5 6]\n",
            " [7 8]]\n",
            "After joining two array :\n",
            " [[1 2]\n",
            " [3 4]\n",
            " [5 6]\n",
            " [7 8]]\n"
          ]
        }
      ]
    },
    {
      "cell_type": "code",
      "source": [
        "# Numpy Joins using stack() function\n",
        "import numpy as np \n",
        "firstArray = np.array([1,11,111])\n",
        "print(\"First Array  = \",firstArray)\n",
        "secondArray = np.array([2,22,222])\n",
        "print(\"Second Array = \",secondArray)\n",
        "print(\"After Joining two array : \\n\",np.stack((firstArray, secondArray)))"
      ],
      "metadata": {
        "colab": {
          "base_uri": "https://localhost:8080/"
        },
        "id": "m-PEaPXJz02O",
        "outputId": "5141b3e2-37cd-42e8-fda9-695084dc2dca"
      },
      "execution_count": null,
      "outputs": [
        {
          "output_type": "stream",
          "name": "stdout",
          "text": [
            "First Array  =  [  1  11 111]\n",
            "Second Array =  [  2  22 222]\n",
            "After Joining two array : \n",
            " [[  1  11 111]\n",
            " [  2  22 222]]\n"
          ]
        }
      ]
    },
    {
      "cell_type": "code",
      "source": [
        "# Numpy Joins using hstack() function\n",
        "import numpy as np\n",
        "firstArray = np.array([1,2,3])\n",
        "print(\"The first array is : \",firstArray)\n",
        "secondArray = np.array([6,7,8])\n",
        "print(\"The second array is : \",secondArray)\n",
        "print(\"After joining two array : \",np.hstack((firstArray, secondArray)))"
      ],
      "metadata": {
        "colab": {
          "base_uri": "https://localhost:8080/"
        },
        "id": "0Yes8UZ33UMG",
        "outputId": "c7d58fd9-dc32-47c8-f57f-9d3aa5f5ee41"
      },
      "execution_count": null,
      "outputs": [
        {
          "output_type": "stream",
          "name": "stdout",
          "text": [
            "The first array is :  [1 2 3]\n",
            "The second array is :  [6 7 8]\n",
            "After joining two array :  [1 2 3 6 7 8]\n"
          ]
        }
      ]
    },
    {
      "cell_type": "code",
      "source": [
        "# Numpy Splitting\n",
        "import numpy as np\n",
        "array = np.array([1,2,3,4,5,6,7,8,9,10])\n",
        "print(\"The array is : \",array)\n",
        "# Splitting array into 3 parts\n",
        "print(\"After Splitting : \",np.array_split(array, 3))"
      ],
      "metadata": {
        "colab": {
          "base_uri": "https://localhost:8080/"
        },
        "id": "DdBgk9wG46yw",
        "outputId": "da77208c-26a9-402d-ed80-b64e5bf80664"
      },
      "execution_count": null,
      "outputs": [
        {
          "output_type": "stream",
          "name": "stdout",
          "text": [
            "The array is :  [ 1  2  3  4  5  6  7  8  9 10]\n",
            "After Splitting :  [array([1, 2, 3, 4]), array([5, 6, 7]), array([ 8,  9, 10])]\n"
          ]
        }
      ]
    },
    {
      "cell_type": "code",
      "source": [
        "# Numpy Search\n",
        "import numpy as np \n",
        "array = np.array([1,2,3,6,11,12,27])\n",
        "print(\"The array is : \",array)\n",
        "# Find all the index where value is divisible by 3 exists\n",
        "var = np.where(array % 3 == 0)\n",
        "print(var)"
      ],
      "metadata": {
        "colab": {
          "base_uri": "https://localhost:8080/"
        },
        "id": "kCvi94U76tuD",
        "outputId": "eaef842d-607b-4dfd-fbb6-0e188e207caa"
      },
      "execution_count": null,
      "outputs": [
        {
          "output_type": "stream",
          "name": "stdout",
          "text": [
            "The array is :  [ 1  2  3  6 11 12 27]\n",
            "(array([2, 3, 5, 6]),)\n"
          ]
        }
      ]
    },
    {
      "cell_type": "code",
      "source": [
        "# Numpy Sorting\n",
        "import numpy as np\n",
        "array = np.array([\"Yubaraj\",\"Ayush\",\"Muskan\",\"Sagar\",\"Priya\"])\n",
        "print(\"The Unsorted array is : \",array)\n",
        "print(\"The Sorted Array is : \",np.sort(array))"
      ],
      "metadata": {
        "colab": {
          "base_uri": "https://localhost:8080/"
        },
        "id": "LEute8sJ-m94",
        "outputId": "caf657f8-06f4-4722-c00f-40b39085f62d"
      },
      "execution_count": null,
      "outputs": [
        {
          "output_type": "stream",
          "name": "stdout",
          "text": [
            "The Unsorted array is :  ['Yubaraj' 'Ayush' 'Muskan' 'Sagar' 'Priya']\n",
            "The Sorted Array is :  ['Ayush' 'Muskan' 'Priya' 'Sagar' 'Yubaraj']\n"
          ]
        }
      ]
    }
  ]
}